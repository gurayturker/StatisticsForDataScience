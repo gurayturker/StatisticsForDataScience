{
 "cells": [
  {
   "cell_type": "code",
   "execution_count": 2,
   "id": "contemporary-motorcycle",
   "metadata": {},
   "outputs": [],
   "source": [
    "import pandas as pd\n",
    "import math\n",
    "import numpy as np\n",
    "from scipy.stats import iqr"
   ]
  },
  {
   "cell_type": "markdown",
   "id": "south-blank",
   "metadata": {},
   "source": [
    "# Numpy ve Pandas Farklı Standart Sapma Hesaplamaktadır"
   ]
  },
  {
   "cell_type": "code",
   "execution_count": 3,
   "id": "affiliated-fundamentals",
   "metadata": {},
   "outputs": [],
   "source": [
    "pd_series = pd.Series([100,200,300,500])\n",
    "np_array = np.array([100,200,300,500])"
   ]
  },
  {
   "cell_type": "markdown",
   "id": "silver-choice",
   "metadata": {},
   "source": [
    "#### Numpy"
   ]
  },
  {
   "attachments": {
    "Ekran%20Resmi%202022-05-23%2022.16.35.png": {
     "image/png": "[encoded data removed]"
    }
   },
   "cell_type": "markdown",
   "id": "meaningful-bride",
   "metadata": {},
   "source": [
    "![Ekran%20Resmi%202022-05-23%2022.16.35.png](attachment:Ekran%20Resmi%202022-05-23%2022.16.35.png)"
   ]
  },
  {
   "cell_type": "code",
   "execution_count": 4,
   "id": "endless-terminal",
   "metadata": {},
   "outputs": [],
   "source": [
    "def standart_formula_numpy(array):\n",
    "    x_head = array.mean()\n",
    "    sum_of_values = 0\n",
    "    for i in array:\n",
    "        sum_of_values = sum_of_values + (i-x_head)**2\n",
    "    divided_value = sum_of_values/len(array)\n",
    "    return np.sqrt(divided_value)        "
   ]
  },
  {
   "cell_type": "code",
   "execution_count": 5,
   "id": "impaired-mobility",
   "metadata": {},
   "outputs": [
    {
     "data": {
      "text/plain": [
       "147.9019945774904"
      ]
     },
     "execution_count": 5,
     "metadata": {},
     "output_type": "execute_result"
    }
   ],
   "source": [
    "standart_formula_numpy(np_array)"
   ]
  },
  {
   "cell_type": "code",
   "execution_count": 6,
   "id": "greatest-wildlife",
   "metadata": {},
   "outputs": [
    {
     "data": {
      "text/plain": [
       "147.9019945774904"
      ]
     },
     "execution_count": 6,
     "metadata": {},
     "output_type": "execute_result"
    }
   ],
   "source": [
    "np_array.std()"
   ]
  },
  {
   "cell_type": "markdown",
   "id": "musical-scale",
   "metadata": {},
   "source": [
    "#### Pandas"
   ]
  },
  {
   "attachments": {
    "Ekran%20Resmi%202022-05-23%2022.16.25.png": {
     "image/png": "[encoded data removed]"
    }
   },
   "cell_type": "markdown",
   "id": "corporate-absence",
   "metadata": {},
   "source": [
    "![Ekran%20Resmi%202022-05-23%2022.16.25.png](attachment:Ekran%20Resmi%202022-05-23%2022.16.25.png)"
   ]
  },
  {
   "cell_type": "code",
   "execution_count": 7,
   "id": "agreed-ceiling",
   "metadata": {},
   "outputs": [],
   "source": [
    "def standart_formula_pandas(array):\n",
    "    x_head = array.mean()\n",
    "    sum_of_values = 0\n",
    "    for i in array:\n",
    "        sum_of_values = sum_of_values + (i-x_head)**2\n",
    "    divided_value = sum_of_values/(len(array)-1)\n",
    "    return np.sqrt(divided_value)        "
   ]
  },
  {
   "cell_type": "code",
   "execution_count": 8,
   "id": "variable-classroom",
   "metadata": {
    "scrolled": true
   },
   "outputs": [
    {
     "data": {
      "text/plain": [
       "170.78251276599332"
      ]
     },
     "execution_count": 8,
     "metadata": {},
     "output_type": "execute_result"
    }
   ],
   "source": [
    "standart_formula_pandas(pd_series)"
   ]
  },
  {
   "cell_type": "code",
   "execution_count": 9,
   "id": "tropical-processing",
   "metadata": {
    "scrolled": true
   },
   "outputs": [
    {
     "data": {
      "text/plain": [
       "170.78251276599332"
      ]
     },
     "execution_count": 9,
     "metadata": {},
     "output_type": "execute_result"
    }
   ],
   "source": [
    "pd_series.std()"
   ]
  },
  {
   "cell_type": "markdown",
   "id": "romantic-gazette",
   "metadata": {},
   "source": [
    "# ADIM 1 : Her Bir Değerin %5 Artması Merkezi Eğilim Ölçülerini Nasıl Etkiler?"
   ]
  },
  {
   "cell_type": "code",
   "execution_count": 10,
   "id": "religious-reporter",
   "metadata": {},
   "outputs": [],
   "source": [
    "np_array1 = np.array([x*1.05 for x in np_array])\n",
    "pd_series1 = pd_series.apply(lambda x: x*1.05)"
   ]
  },
  {
   "cell_type": "markdown",
   "id": "international-private",
   "metadata": {},
   "source": [
    "### Ortalama "
   ]
  },
  {
   "cell_type": "code",
   "execution_count": 11,
   "id": "mediterranean-creator",
   "metadata": {
    "scrolled": true
   },
   "outputs": [
    {
     "name": "stdout",
     "output_type": "stream",
     "text": [
      "Ortalama: 275.0\n",
      "%5 Artırılmış Değerlerin  \n",
      "Ortalaması: 288.75\n"
     ]
    }
   ],
   "source": [
    "ort = np_array.mean()\n",
    "ort_yuzde5 = np_array1.mean()\n",
    "print(\"Ortalama:\",ort)\n",
    "print(\"%5 Artırılmış Değerlerin  \\nOrtalaması:\",ort_yuzde5)"
   ]
  },
  {
   "cell_type": "markdown",
   "id": "disturbed-account",
   "metadata": {},
   "source": [
    "#### Eski Ortalamaya Etkisi"
   ]
  },
  {
   "cell_type": "code",
   "execution_count": 12,
   "id": "romance-silicon",
   "metadata": {},
   "outputs": [
    {
     "data": {
      "text/plain": [
       "5.0"
      ]
     },
     "execution_count": 12,
     "metadata": {},
     "output_type": "execute_result"
    }
   ],
   "source": [
    "((ort_yuzde5 - ort)/ort)*100"
   ]
  },
  {
   "cell_type": "markdown",
   "id": "italian-youth",
   "metadata": {},
   "source": [
    "### Median"
   ]
  },
  {
   "cell_type": "code",
   "execution_count": 13,
   "id": "geological-wings",
   "metadata": {
    "scrolled": true
   },
   "outputs": [
    {
     "name": "stdout",
     "output_type": "stream",
     "text": [
      "Median: 250.0\n",
      "%5 Artırılmış Değerlerin  \n",
      "Median: 262.5\n"
     ]
    }
   ],
   "source": [
    "med = np.median(np_array)\n",
    "med_yuzde5 = np.median(np_array1)\n",
    "print(\"Median:\",med)\n",
    "print(\"%5 Artırılmış Değerlerin  \\nMedian:\",med_yuzde5)"
   ]
  },
  {
   "cell_type": "markdown",
   "id": "rotary-following",
   "metadata": {},
   "source": [
    "#### Eski Mediana Etkisi"
   ]
  },
  {
   "cell_type": "code",
   "execution_count": 14,
   "id": "otherwise-million",
   "metadata": {},
   "outputs": [
    {
     "data": {
      "text/plain": [
       "5.0"
      ]
     },
     "execution_count": 14,
     "metadata": {},
     "output_type": "execute_result"
    }
   ],
   "source": [
    "((med_yuzde5 - med)/med)*100"
   ]
  },
  {
   "cell_type": "markdown",
   "id": "tender-pension",
   "metadata": {},
   "source": [
    "### Standart Sapma"
   ]
  },
  {
   "cell_type": "markdown",
   "id": "flexible-russian",
   "metadata": {},
   "source": [
    "#### Numpy"
   ]
  },
  {
   "cell_type": "code",
   "execution_count": 15,
   "id": "whole-hayes",
   "metadata": {
    "scrolled": false
   },
   "outputs": [
    {
     "name": "stdout",
     "output_type": "stream",
     "text": [
      "STD: 147.9019945774904\n",
      "%5 Artırılmış Değerlerin  \n",
      "STD: 155.29709430636493\n"
     ]
    }
   ],
   "source": [
    "std_sapma = np.std(np_array)\n",
    "std_sapma_yuzde5 = np.std(np_array1)\n",
    "print(\"STD:\",std_sapma)\n",
    "print(\"%5 Artırılmış Değerlerin  \\nSTD:\",std_sapma_yuzde5)"
   ]
  },
  {
   "cell_type": "markdown",
   "id": "communist-cassette",
   "metadata": {},
   "source": [
    "#### Eski STD Etkisi"
   ]
  },
  {
   "cell_type": "code",
   "execution_count": 19,
   "id": "blind-premises",
   "metadata": {
    "scrolled": false
   },
   "outputs": [
    {
     "data": {
      "text/plain": [
       "5.000000000000005"
      ]
     },
     "execution_count": 19,
     "metadata": {},
     "output_type": "execute_result"
    }
   ],
   "source": [
    "((std_sapma_yuzde5 - std_sapma)/std_sapma)*100"
   ]
  },
  {
   "cell_type": "markdown",
   "id": "exclusive-absolute",
   "metadata": {},
   "source": [
    "#### Pandas"
   ]
  },
  {
   "cell_type": "code",
   "execution_count": 20,
   "id": "educated-findings",
   "metadata": {
    "scrolled": true
   },
   "outputs": [
    {
     "name": "stdout",
     "output_type": "stream",
     "text": [
      "STD: 170.78251276599332\n",
      "%5 Artırılmış Değerlerin  \n",
      "STD: 179.32163840429297\n"
     ]
    }
   ],
   "source": [
    "std_sapma_pd = pd_series.std()\n",
    "std_sapma_yuzde5_pd = pd_series1.std()\n",
    "print(\"STD:\",std_sapma_pd)\n",
    "print(\"%5 Artırılmış Değerlerin  \\nSTD:\",std_sapma_yuzde5_pd)"
   ]
  },
  {
   "cell_type": "markdown",
   "id": "welsh-bandwidth",
   "metadata": {},
   "source": [
    "#### Eski STD Etkisi"
   ]
  },
  {
   "cell_type": "code",
   "execution_count": 21,
   "id": "discrete-saint",
   "metadata": {
    "scrolled": false
   },
   "outputs": [
    {
     "data": {
      "text/plain": [
       "4.999999999999992"
      ]
     },
     "execution_count": 21,
     "metadata": {},
     "output_type": "execute_result"
    }
   ],
   "source": [
    "((std_sapma_yuzde5_pd - std_sapma_pd)/std_sapma_pd)*100"
   ]
  },
  {
   "cell_type": "markdown",
   "id": "completed-hypothesis",
   "metadata": {},
   "source": [
    "### InQuartile Range (IQR)"
   ]
  },
  {
   "cell_type": "markdown",
   "id": "vanilla-craft",
   "metadata": {},
   "source": [
    "Verinin Spread Out'unu Verir"
   ]
  },
  {
   "cell_type": "code",
   "execution_count": 22,
   "id": "automatic-commission",
   "metadata": {},
   "outputs": [
    {
     "data": {
      "text/plain": [
       "array([100, 200, 300, 500])"
      ]
     },
     "execution_count": 22,
     "metadata": {},
     "output_type": "execute_result"
    }
   ],
   "source": [
    "np_array"
   ]
  },
  {
   "cell_type": "code",
   "execution_count": 23,
   "id": "valuable-worthy",
   "metadata": {
    "scrolled": true
   },
   "outputs": [
    {
     "name": "stdout",
     "output_type": "stream",
     "text": [
      "IQR: 175.0\n",
      "%5 Artırılmış Değerlerin  \n",
      "IQR: 183.75\n"
     ]
    }
   ],
   "source": [
    "iqr_ = iqr(np_array)\n",
    "iqr_yuzde5 = iqr(np_array1)\n",
    "print(\"IQR:\",iqr_)\n",
    "print(\"%5 Artırılmış Değerlerin  \\nIQR:\",iqr_yuzde5)"
   ]
  },
  {
   "cell_type": "markdown",
   "id": "social-architect",
   "metadata": {},
   "source": [
    "#### Eski STD Etkisi"
   ]
  },
  {
   "cell_type": "code",
   "execution_count": 24,
   "id": "confirmed-classroom",
   "metadata": {
    "scrolled": false
   },
   "outputs": [
    {
     "data": {
      "text/plain": [
       "5.0"
      ]
     },
     "execution_count": 24,
     "metadata": {},
     "output_type": "execute_result"
    }
   ],
   "source": [
    "((iqr_yuzde5 - iqr_)/iqr_)*100"
   ]
  },
  {
   "cell_type": "markdown",
   "id": "adapted-coordinate",
   "metadata": {},
   "source": [
    "# ADIM 2 : Her Bir Değerin 50 Artması Merkezi Eğilim Ölçülerini Nasıl Etkiler?"
   ]
  },
  {
   "cell_type": "code",
   "execution_count": 25,
   "id": "legendary-observation",
   "metadata": {},
   "outputs": [],
   "source": [
    "np_array2 = np.array([x+50for x in np_array])\n",
    "pd_series2 = pd_series.apply(lambda x: x+50)"
   ]
  },
  {
   "cell_type": "markdown",
   "id": "humanitarian-swing",
   "metadata": {},
   "source": [
    "### Ortalama "
   ]
  },
  {
   "cell_type": "code",
   "execution_count": 98,
   "id": "pointed-biology",
   "metadata": {
    "scrolled": true
   },
   "outputs": [
    {
     "name": "stdout",
     "output_type": "stream",
     "text": [
      "Ortalama: 275.0\n",
      "50 Artırılmış Değerlerin  \n",
      "Ortalaması: 325.0\n"
     ]
    }
   ],
   "source": [
    "ort = np_array.mean()\n",
    "ort_50 = np_array2.mean()\n",
    "print(\"Ortalama:\",ort)\n",
    "print(\"50 Artırılmış Değerlerin  \\nOrtalaması:\",ort_50)"
   ]
  },
  {
   "cell_type": "markdown",
   "id": "round-drove",
   "metadata": {},
   "source": [
    "#### Eski Ortalamaya Etkisi"
   ]
  },
  {
   "cell_type": "code",
   "execution_count": 99,
   "id": "geographic-species",
   "metadata": {},
   "outputs": [
    {
     "data": {
      "text/plain": [
       "50.0"
      ]
     },
     "execution_count": 99,
     "metadata": {},
     "output_type": "execute_result"
    }
   ],
   "source": [
    "ort_50- ort"
   ]
  },
  {
   "cell_type": "markdown",
   "id": "based-volunteer",
   "metadata": {},
   "source": [
    "### Median"
   ]
  },
  {
   "cell_type": "code",
   "execution_count": 100,
   "id": "banned-terror",
   "metadata": {
    "scrolled": true
   },
   "outputs": [
    {
     "name": "stdout",
     "output_type": "stream",
     "text": [
      "Median: 250.0\n",
      "50 Artırılmış Değerlerin  \n",
      "Median: 300.0\n"
     ]
    }
   ],
   "source": [
    "med = np.median(np_array)\n",
    "med_50 = np.median(np_array2)\n",
    "print(\"Median:\",med)\n",
    "print(\"50 Artırılmış Değerlerin  \\nMedian:\",med_50)"
   ]
  },
  {
   "cell_type": "markdown",
   "id": "certified-cooking",
   "metadata": {},
   "source": [
    "#### Eski Mediana Etkisi"
   ]
  },
  {
   "cell_type": "code",
   "execution_count": 101,
   "id": "voluntary-regular",
   "metadata": {},
   "outputs": [
    {
     "data": {
      "text/plain": [
       "50.0"
      ]
     },
     "execution_count": 101,
     "metadata": {},
     "output_type": "execute_result"
    }
   ],
   "source": [
    "med_50 - med"
   ]
  },
  {
   "cell_type": "markdown",
   "id": "identified-power",
   "metadata": {},
   "source": [
    "### Standart Sapma"
   ]
  },
  {
   "cell_type": "markdown",
   "id": "suited-purple",
   "metadata": {},
   "source": [
    "#### Numpy"
   ]
  },
  {
   "cell_type": "code",
   "execution_count": 103,
   "id": "laden-youth",
   "metadata": {
    "scrolled": true
   },
   "outputs": [
    {
     "name": "stdout",
     "output_type": "stream",
     "text": [
      "STD: 147.9019945774904\n",
      "50 Artırılmış Değerlerin  \n",
      "STD: 147.9019945774904\n"
     ]
    }
   ],
   "source": [
    "std_sapma = np.std(np_array)\n",
    "std_sapma_50 = np.std(np_array2)\n",
    "print(\"STD:\",std_sapma)\n",
    "print(\"50 Artırılmış Değerlerin  \\nSTD:\",std_sapma_50)"
   ]
  },
  {
   "cell_type": "markdown",
   "id": "stuck-myanmar",
   "metadata": {},
   "source": [
    "#### Eski STD Etkisi"
   ]
  },
  {
   "cell_type": "code",
   "execution_count": 104,
   "id": "affiliated-century",
   "metadata": {
    "scrolled": false
   },
   "outputs": [
    {
     "data": {
      "text/plain": [
       "0.0"
      ]
     },
     "execution_count": 104,
     "metadata": {},
     "output_type": "execute_result"
    }
   ],
   "source": [
    "std_sapma_50 - std_sapma"
   ]
  },
  {
   "cell_type": "markdown",
   "id": "distant-symposium",
   "metadata": {},
   "source": [
    "#### Pandas"
   ]
  },
  {
   "cell_type": "code",
   "execution_count": 106,
   "id": "human-senior",
   "metadata": {
    "scrolled": true
   },
   "outputs": [
    {
     "name": "stdout",
     "output_type": "stream",
     "text": [
      "STD: 170.78251276599332\n",
      "50 Artırılmış Değerlerin  \n",
      "STD: 170.78251276599332\n"
     ]
    }
   ],
   "source": [
    "std_sapma_pd = pd_series.std()\n",
    "std_sapma_50_pd = pd_series2.std()\n",
    "print(\"STD:\",std_sapma_pd)\n",
    "print(\"50 Artırılmış Değerlerin  \\nSTD:\",std_sapma_50_pd)"
   ]
  },
  {
   "cell_type": "markdown",
   "id": "exceptional-faculty",
   "metadata": {},
   "source": [
    "#### Eski STD Etkisi"
   ]
  },
  {
   "cell_type": "code",
   "execution_count": 107,
   "id": "descending-launch",
   "metadata": {
    "scrolled": false
   },
   "outputs": [
    {
     "data": {
      "text/plain": [
       "0.0"
      ]
     },
     "execution_count": 107,
     "metadata": {},
     "output_type": "execute_result"
    }
   ],
   "source": [
    "std_sapma_50_pd - std_sapma_pd"
   ]
  },
  {
   "cell_type": "markdown",
   "id": "packed-assets",
   "metadata": {},
   "source": [
    "### InQuartile Range (IQR)"
   ]
  },
  {
   "cell_type": "markdown",
   "id": "swedish-apparatus",
   "metadata": {},
   "source": [
    "Verinin Spread Out'unu Verir"
   ]
  },
  {
   "cell_type": "code",
   "execution_count": 109,
   "id": "excessive-advisory",
   "metadata": {
    "scrolled": true
   },
   "outputs": [
    {
     "name": "stdout",
     "output_type": "stream",
     "text": [
      "IQR: 175.0\n",
      "50 Artırılmış Değerlerin  \n",
      "IQR: 175.0\n"
     ]
    }
   ],
   "source": [
    "iqr_ = iqr(np_array)\n",
    "iqr_50 = iqr(np_array2)\n",
    "print(\"IQR:\",iqr_)\n",
    "print(\"50 Artırılmış Değerlerin  \\nIQR:\",iqr_50)"
   ]
  },
  {
   "cell_type": "markdown",
   "id": "suitable-vanilla",
   "metadata": {},
   "source": [
    "#### Eski IQR Etkisi"
   ]
  },
  {
   "cell_type": "code",
   "execution_count": 110,
   "id": "geographic-white",
   "metadata": {
    "scrolled": false
   },
   "outputs": [
    {
     "data": {
      "text/plain": [
       "0.0"
      ]
     },
     "execution_count": 110,
     "metadata": {},
     "output_type": "execute_result"
    }
   ],
   "source": [
    "iqr_50 - iqr_"
   ]
  },
  {
   "cell_type": "markdown",
   "id": "abroad-consent",
   "metadata": {},
   "source": [
    "# Özet"
   ]
  },
  {
   "cell_type": "markdown",
   "id": "placed-building",
   "metadata": {},
   "source": [
    "Bir dizi veri **%x** olarak artırıldığında\n",
    "- Ortalama\n",
    "- Median\n",
    "- Std\n",
    "- IQR\n",
    "\n",
    "değerleri **%x** miktarı kadar artar."
   ]
  },
  {
   "cell_type": "markdown",
   "id": "isolated-allocation",
   "metadata": {},
   "source": [
    "Bir dizi veri **+x** olarak artırıldığında\n",
    "- Ortalama\n",
    "- Median\n",
    "değerleri **+x** miktarı kadar artarken\n",
    "- Std\n",
    "- IQR\n",
    "\n",
    "değerleri değişmemektedir."
   ]
  }
 ],
 "metadata": {
  "kernelspec": {
   "display_name": "Python 3",
   "language": "python",
   "name": "python3"
  },
  "language_info": {
   "codemirror_mode": {
    "name": "ipython",
    "version": 3
   },
   "file_extension": ".py",
   "mimetype": "text/x-python",
   "name": "python",
   "nbconvert_exporter": "python",
   "pygments_lexer": "ipython3",
   "version": "3.6.13"
  }
 },
 "nbformat": 4,
 "nbformat_minor": 5
}
